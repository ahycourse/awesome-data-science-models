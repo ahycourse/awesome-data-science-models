{
 "cells": [
  {
   "cell_type": "code",
   "execution_count": 1,
   "metadata": {},
   "outputs": [],
   "source": [
    "#Basic Libraries\n",
    "import numpy as np\n",
    "import pandas as pd\n",
    "import matplotlib.pyplot as plt\n",
    "import seaborn as sns\n",
    "\n",
    "# Others\n",
    "import warnings\n",
    "warnings.filterwarnings(\"ignore\", category=DeprecationWarning) \n",
    "warnings.filterwarnings(\"ignore\", category=FutureWarning)\n",
    "\n",
    "# Data Access Libraries\n",
    "from google.cloud import bigquery"
   ]
  },
  {
   "cell_type": "code",
   "execution_count": 2,
   "metadata": {},
   "outputs": [
    {
     "data": {
      "text/html": [
       "<div>\n",
       "<style scoped>\n",
       "    .dataframe tbody tr th:only-of-type {\n",
       "        vertical-align: middle;\n",
       "    }\n",
       "\n",
       "    .dataframe tbody tr th {\n",
       "        vertical-align: top;\n",
       "    }\n",
       "\n",
       "    .dataframe thead th {\n",
       "        text-align: right;\n",
       "    }\n",
       "</style>\n",
       "<table border=\"1\" class=\"dataframe\">\n",
       "  <thead>\n",
       "    <tr style=\"text-align: right;\">\n",
       "      <th></th>\n",
       "      <th>log_trip_seconds</th>\n",
       "      <th>distance</th>\n",
       "      <th>hour_start</th>\n",
       "      <th>month_start</th>\n",
       "      <th>weekday</th>\n",
       "      <th>pickup_census_tract</th>\n",
       "      <th>dropoff_census_tract</th>\n",
       "      <th>pickup_community_area</th>\n",
       "      <th>dropoff_community_area</th>\n",
       "      <th>pickup_latitude</th>\n",
       "      <th>pickup_longitude</th>\n",
       "      <th>dropoff_latitude</th>\n",
       "      <th>dropoff_longitude</th>\n",
       "    </tr>\n",
       "  </thead>\n",
       "  <tbody>\n",
       "    <tr>\n",
       "      <th>0</th>\n",
       "      <td>6.802395</td>\n",
       "      <td>4511.247153</td>\n",
       "      <td>19</td>\n",
       "      <td>9</td>\n",
       "      <td>Thu</td>\n",
       "      <td>17031061500</td>\n",
       "      <td>17031241400</td>\n",
       "      <td>6</td>\n",
       "      <td>24</td>\n",
       "      <td>41.945282</td>\n",
       "      <td>-87.661545</td>\n",
       "      <td>41.906026</td>\n",
       "      <td>-87.675312</td>\n",
       "    </tr>\n",
       "    <tr>\n",
       "      <th>1</th>\n",
       "      <td>5.886104</td>\n",
       "      <td>3338.217673</td>\n",
       "      <td>2</td>\n",
       "      <td>8</td>\n",
       "      <td>Sat</td>\n",
       "      <td>17031051400</td>\n",
       "      <td>17031241400</td>\n",
       "      <td>5</td>\n",
       "      <td>24</td>\n",
       "      <td>41.935749</td>\n",
       "      <td>-87.680980</td>\n",
       "      <td>41.906026</td>\n",
       "      <td>-87.675312</td>\n",
       "    </tr>\n",
       "    <tr>\n",
       "      <th>2</th>\n",
       "      <td>4.787492</td>\n",
       "      <td>899.739256</td>\n",
       "      <td>20</td>\n",
       "      <td>3</td>\n",
       "      <td>Fri</td>\n",
       "      <td>17031070600</td>\n",
       "      <td>17031062800</td>\n",
       "      <td>7</td>\n",
       "      <td>6</td>\n",
       "      <td>41.928763</td>\n",
       "      <td>-87.665677</td>\n",
       "      <td>41.936159</td>\n",
       "      <td>-87.661265</td>\n",
       "    </tr>\n",
       "    <tr>\n",
       "      <th>3</th>\n",
       "      <td>6.040255</td>\n",
       "      <td>1968.116956</td>\n",
       "      <td>1</td>\n",
       "      <td>2</td>\n",
       "      <td>Sun</td>\n",
       "      <td>17031832100</td>\n",
       "      <td>17031062800</td>\n",
       "      <td>6</td>\n",
       "      <td>6</td>\n",
       "      <td>41.952823</td>\n",
       "      <td>-87.653244</td>\n",
       "      <td>41.936159</td>\n",
       "      <td>-87.661265</td>\n",
       "    </tr>\n",
       "    <tr>\n",
       "      <th>4</th>\n",
       "      <td>7.038784</td>\n",
       "      <td>6303.427819</td>\n",
       "      <td>0</td>\n",
       "      <td>8</td>\n",
       "      <td>Sat</td>\n",
       "      <td>17031243100</td>\n",
       "      <td>17031061902</td>\n",
       "      <td>24</td>\n",
       "      <td>6</td>\n",
       "      <td>41.892355</td>\n",
       "      <td>-87.674507</td>\n",
       "      <td>41.943155</td>\n",
       "      <td>-87.640698</td>\n",
       "    </tr>\n",
       "  </tbody>\n",
       "</table>\n",
       "</div>"
      ],
      "text/plain": [
       "   log_trip_seconds     distance  hour_start  month_start weekday  \\\n",
       "0          6.802395  4511.247153          19            9     Thu   \n",
       "1          5.886104  3338.217673           2            8     Sat   \n",
       "2          4.787492   899.739256          20            3     Fri   \n",
       "3          6.040255  1968.116956           1            2     Sun   \n",
       "4          7.038784  6303.427819           0            8     Sat   \n",
       "\n",
       "   pickup_census_tract  dropoff_census_tract  pickup_community_area  \\\n",
       "0          17031061500           17031241400                      6   \n",
       "1          17031051400           17031241400                      5   \n",
       "2          17031070600           17031062800                      7   \n",
       "3          17031832100           17031062800                      6   \n",
       "4          17031243100           17031061902                     24   \n",
       "\n",
       "   dropoff_community_area  pickup_latitude  pickup_longitude  \\\n",
       "0                      24        41.945282        -87.661545   \n",
       "1                      24        41.935749        -87.680980   \n",
       "2                       6        41.928763        -87.665677   \n",
       "3                       6        41.952823        -87.653244   \n",
       "4                       6        41.892355        -87.674507   \n",
       "\n",
       "   dropoff_latitude  dropoff_longitude  \n",
       "0         41.906026         -87.675312  \n",
       "1         41.906026         -87.675312  \n",
       "2         41.936159         -87.661265  \n",
       "3         41.936159         -87.661265  \n",
       "4         41.943155         -87.640698  "
      ]
     },
     "execution_count": 2,
     "metadata": {},
     "output_type": "execute_result"
    }
   ],
   "source": [
    "# Bring in datasets\n",
    "client = bigquery.Client()\n",
    "query_train=\"\"\"\n",
    "SELECT * FROM `mwe-sanofi-ml-workshop.chicago_taxi.train_results` Limit 20000\n",
    "\"\"\"\n",
    "\n",
    "df_train = client.query(query_train).to_dataframe()\n",
    "df_train.head()"
   ]
  },
  {
   "cell_type": "code",
   "execution_count": 3,
   "metadata": {},
   "outputs": [
    {
     "data": {
      "text/html": [
       "<div>\n",
       "<style scoped>\n",
       "    .dataframe tbody tr th:only-of-type {\n",
       "        vertical-align: middle;\n",
       "    }\n",
       "\n",
       "    .dataframe tbody tr th {\n",
       "        vertical-align: top;\n",
       "    }\n",
       "\n",
       "    .dataframe thead th {\n",
       "        text-align: right;\n",
       "    }\n",
       "</style>\n",
       "<table border=\"1\" class=\"dataframe\">\n",
       "  <thead>\n",
       "    <tr style=\"text-align: right;\">\n",
       "      <th></th>\n",
       "      <th>log_trip_seconds</th>\n",
       "      <th>distance</th>\n",
       "      <th>hour_start</th>\n",
       "      <th>month_start</th>\n",
       "      <th>weekday</th>\n",
       "      <th>pickup_census_tract</th>\n",
       "      <th>dropoff_census_tract</th>\n",
       "      <th>pickup_community_area</th>\n",
       "      <th>dropoff_community_area</th>\n",
       "      <th>pickup_latitude</th>\n",
       "      <th>pickup_longitude</th>\n",
       "      <th>dropoff_latitude</th>\n",
       "      <th>dropoff_longitude</th>\n",
       "    </tr>\n",
       "  </thead>\n",
       "  <tbody>\n",
       "    <tr>\n",
       "      <th>0</th>\n",
       "      <td>5.703782</td>\n",
       "      <td>977.094145</td>\n",
       "      <td>17</td>\n",
       "      <td>1</td>\n",
       "      <td>Tue</td>\n",
       "      <td>17031063301</td>\n",
       "      <td>17031061902</td>\n",
       "      <td>6</td>\n",
       "      <td>6</td>\n",
       "      <td>41.934540</td>\n",
       "      <td>-87.643023</td>\n",
       "      <td>41.943155</td>\n",
       "      <td>-87.640698</td>\n",
       "    </tr>\n",
       "    <tr>\n",
       "      <th>1</th>\n",
       "      <td>7.138867</td>\n",
       "      <td>5765.487047</td>\n",
       "      <td>18</td>\n",
       "      <td>11</td>\n",
       "      <td>Wed</td>\n",
       "      <td>17031061902</td>\n",
       "      <td>17031210601</td>\n",
       "      <td>6</td>\n",
       "      <td>21</td>\n",
       "      <td>41.943155</td>\n",
       "      <td>-87.640698</td>\n",
       "      <td>41.937494</td>\n",
       "      <td>-87.709987</td>\n",
       "    </tr>\n",
       "    <tr>\n",
       "      <th>2</th>\n",
       "      <td>5.480639</td>\n",
       "      <td>1504.029332</td>\n",
       "      <td>10</td>\n",
       "      <td>10</td>\n",
       "      <td>Sun</td>\n",
       "      <td>17031411000</td>\n",
       "      <td>17031836200</td>\n",
       "      <td>41</td>\n",
       "      <td>41</td>\n",
       "      <td>41.790506</td>\n",
       "      <td>-87.583144</td>\n",
       "      <td>41.790469</td>\n",
       "      <td>-87.601285</td>\n",
       "    </tr>\n",
       "    <tr>\n",
       "      <th>3</th>\n",
       "      <td>6.396930</td>\n",
       "      <td>2866.170369</td>\n",
       "      <td>2</td>\n",
       "      <td>7</td>\n",
       "      <td>Sun</td>\n",
       "      <td>17031070600</td>\n",
       "      <td>17031832100</td>\n",
       "      <td>7</td>\n",
       "      <td>6</td>\n",
       "      <td>41.928763</td>\n",
       "      <td>-87.665677</td>\n",
       "      <td>41.952823</td>\n",
       "      <td>-87.653244</td>\n",
       "    </tr>\n",
       "    <tr>\n",
       "      <th>4</th>\n",
       "      <td>6.291569</td>\n",
       "      <td>1941.942145</td>\n",
       "      <td>0</td>\n",
       "      <td>7</td>\n",
       "      <td>Sat</td>\n",
       "      <td>17031062500</td>\n",
       "      <td>17031832100</td>\n",
       "      <td>6</td>\n",
       "      <td>6</td>\n",
       "      <td>41.941488</td>\n",
       "      <td>-87.671108</td>\n",
       "      <td>41.952823</td>\n",
       "      <td>-87.653244</td>\n",
       "    </tr>\n",
       "  </tbody>\n",
       "</table>\n",
       "</div>"
      ],
      "text/plain": [
       "   log_trip_seconds     distance  hour_start  month_start weekday  \\\n",
       "0          5.703782   977.094145          17            1     Tue   \n",
       "1          7.138867  5765.487047          18           11     Wed   \n",
       "2          5.480639  1504.029332          10           10     Sun   \n",
       "3          6.396930  2866.170369           2            7     Sun   \n",
       "4          6.291569  1941.942145           0            7     Sat   \n",
       "\n",
       "   pickup_census_tract  dropoff_census_tract  pickup_community_area  \\\n",
       "0          17031063301           17031061902                      6   \n",
       "1          17031061902           17031210601                      6   \n",
       "2          17031411000           17031836200                     41   \n",
       "3          17031070600           17031832100                      7   \n",
       "4          17031062500           17031832100                      6   \n",
       "\n",
       "   dropoff_community_area  pickup_latitude  pickup_longitude  \\\n",
       "0                       6        41.934540        -87.643023   \n",
       "1                      21        41.943155        -87.640698   \n",
       "2                      41        41.790506        -87.583144   \n",
       "3                       6        41.928763        -87.665677   \n",
       "4                       6        41.941488        -87.671108   \n",
       "\n",
       "   dropoff_latitude  dropoff_longitude  \n",
       "0         41.943155         -87.640698  \n",
       "1         41.937494         -87.709987  \n",
       "2         41.790469         -87.601285  \n",
       "3         41.952823         -87.653244  \n",
       "4         41.952823         -87.653244  "
      ]
     },
     "execution_count": 3,
     "metadata": {},
     "output_type": "execute_result"
    }
   ],
   "source": [
    "query_test=\"\"\"\n",
    "SELECT * FROM `mwe-sanofi-ml-workshop.chicago_taxi.test_results` Limit 10000\n",
    "\"\"\"\n",
    "\n",
    "df_test = client.query(query_test).to_dataframe()\n",
    "df_test.head()"
   ]
  },
  {
   "cell_type": "code",
   "execution_count": 4,
   "metadata": {},
   "outputs": [
    {
     "data": {
      "text/html": [
       "<div>\n",
       "<style scoped>\n",
       "    .dataframe tbody tr th:only-of-type {\n",
       "        vertical-align: middle;\n",
       "    }\n",
       "\n",
       "    .dataframe tbody tr th {\n",
       "        vertical-align: top;\n",
       "    }\n",
       "\n",
       "    .dataframe thead th {\n",
       "        text-align: right;\n",
       "    }\n",
       "</style>\n",
       "<table border=\"1\" class=\"dataframe\">\n",
       "  <thead>\n",
       "    <tr style=\"text-align: right;\">\n",
       "      <th></th>\n",
       "      <th>log_trip_seconds</th>\n",
       "      <th>distance</th>\n",
       "      <th>hour_start</th>\n",
       "      <th>month_start</th>\n",
       "      <th>weekday</th>\n",
       "      <th>pickup_census_tract</th>\n",
       "      <th>dropoff_census_tract</th>\n",
       "      <th>pickup_community_area</th>\n",
       "      <th>dropoff_community_area</th>\n",
       "      <th>pickup_latitude</th>\n",
       "      <th>pickup_longitude</th>\n",
       "      <th>dropoff_latitude</th>\n",
       "      <th>dropoff_longitude</th>\n",
       "    </tr>\n",
       "  </thead>\n",
       "  <tbody>\n",
       "    <tr>\n",
       "      <th>0</th>\n",
       "      <td>6.173786</td>\n",
       "      <td>807.944121</td>\n",
       "      <td>19</td>\n",
       "      <td>6</td>\n",
       "      <td>Fri</td>\n",
       "      <td>17031060100</td>\n",
       "      <td>17031050100</td>\n",
       "      <td>6</td>\n",
       "      <td>5</td>\n",
       "      <td>41.957531</td>\n",
       "      <td>-87.666611</td>\n",
       "      <td>41.957843</td>\n",
       "      <td>-87.676373</td>\n",
       "    </tr>\n",
       "    <tr>\n",
       "      <th>1</th>\n",
       "      <td>6.659294</td>\n",
       "      <td>4283.187886</td>\n",
       "      <td>1</td>\n",
       "      <td>6</td>\n",
       "      <td>Sun</td>\n",
       "      <td>9999</td>\n",
       "      <td>9999</td>\n",
       "      <td>10</td>\n",
       "      <td>17</td>\n",
       "      <td>41.985015</td>\n",
       "      <td>-87.804532</td>\n",
       "      <td>41.946511</td>\n",
       "      <td>-87.806020</td>\n",
       "    </tr>\n",
       "    <tr>\n",
       "      <th>2</th>\n",
       "      <td>6.059123</td>\n",
       "      <td>2669.504128</td>\n",
       "      <td>23</td>\n",
       "      <td>4</td>\n",
       "      <td>Thu</td>\n",
       "      <td>17031832300</td>\n",
       "      <td>17031063400</td>\n",
       "      <td>22</td>\n",
       "      <td>6</td>\n",
       "      <td>41.919225</td>\n",
       "      <td>-87.671446</td>\n",
       "      <td>41.934659</td>\n",
       "      <td>-87.646730</td>\n",
       "    </tr>\n",
       "    <tr>\n",
       "      <th>3</th>\n",
       "      <td>6.920672</td>\n",
       "      <td>3969.329419</td>\n",
       "      <td>17</td>\n",
       "      <td>4</td>\n",
       "      <td>Sat</td>\n",
       "      <td>9999</td>\n",
       "      <td>9999</td>\n",
       "      <td>13</td>\n",
       "      <td>11</td>\n",
       "      <td>41.983636</td>\n",
       "      <td>-87.723583</td>\n",
       "      <td>41.978830</td>\n",
       "      <td>-87.771167</td>\n",
       "    </tr>\n",
       "    <tr>\n",
       "      <th>4</th>\n",
       "      <td>6.888572</td>\n",
       "      <td>15007.925710</td>\n",
       "      <td>7</td>\n",
       "      <td>4</td>\n",
       "      <td>Sun</td>\n",
       "      <td>9999</td>\n",
       "      <td>9999</td>\n",
       "      <td>64</td>\n",
       "      <td>33</td>\n",
       "      <td>41.779583</td>\n",
       "      <td>-87.768511</td>\n",
       "      <td>41.857184</td>\n",
       "      <td>-87.620335</td>\n",
       "    </tr>\n",
       "  </tbody>\n",
       "</table>\n",
       "</div>"
      ],
      "text/plain": [
       "   log_trip_seconds      distance  hour_start  month_start weekday  \\\n",
       "0          6.173786    807.944121          19            6     Fri   \n",
       "1          6.659294   4283.187886           1            6     Sun   \n",
       "2          6.059123   2669.504128          23            4     Thu   \n",
       "3          6.920672   3969.329419          17            4     Sat   \n",
       "4          6.888572  15007.925710           7            4     Sun   \n",
       "\n",
       "   pickup_census_tract  dropoff_census_tract  pickup_community_area  \\\n",
       "0          17031060100           17031050100                      6   \n",
       "1                 9999                  9999                     10   \n",
       "2          17031832300           17031063400                     22   \n",
       "3                 9999                  9999                     13   \n",
       "4                 9999                  9999                     64   \n",
       "\n",
       "   dropoff_community_area  pickup_latitude  pickup_longitude  \\\n",
       "0                       5        41.957531        -87.666611   \n",
       "1                      17        41.985015        -87.804532   \n",
       "2                       6        41.919225        -87.671446   \n",
       "3                      11        41.983636        -87.723583   \n",
       "4                      33        41.779583        -87.768511   \n",
       "\n",
       "   dropoff_latitude  dropoff_longitude  \n",
       "0         41.957843         -87.676373  \n",
       "1         41.946511         -87.806020  \n",
       "2         41.934659         -87.646730  \n",
       "3         41.978830         -87.771167  \n",
       "4         41.857184         -87.620335  "
      ]
     },
     "execution_count": 4,
     "metadata": {},
     "output_type": "execute_result"
    }
   ],
   "source": [
    "query_val=\"\"\"\n",
    "SELECT * FROM `mwe-sanofi-ml-workshop.chicago_taxi.val_results` Limit 10000\n",
    "\"\"\"\n",
    "\n",
    "df_val = client.query(query_val).to_dataframe()\n",
    "df_val.head()"
   ]
  },
  {
   "cell_type": "code",
   "execution_count": 5,
   "metadata": {},
   "outputs": [
    {
     "name": "stdout",
     "output_type": "stream",
     "text": [
      "(20000, 13)\n",
      "(10000, 13)\n",
      "(10000, 13)\n"
     ]
    }
   ],
   "source": [
    "print(df_train.shape)\n",
    "print(df_test.shape)\n",
    "print(df_val.shape)"
   ]
  },
  {
   "cell_type": "code",
   "execution_count": 6,
   "metadata": {},
   "outputs": [
    {
     "data": {
      "text/html": [
       "<div>\n",
       "<style scoped>\n",
       "    .dataframe tbody tr th:only-of-type {\n",
       "        vertical-align: middle;\n",
       "    }\n",
       "\n",
       "    .dataframe tbody tr th {\n",
       "        vertical-align: top;\n",
       "    }\n",
       "\n",
       "    .dataframe thead th {\n",
       "        text-align: right;\n",
       "    }\n",
       "</style>\n",
       "<table border=\"1\" class=\"dataframe\">\n",
       "  <thead>\n",
       "    <tr style=\"text-align: right;\">\n",
       "      <th></th>\n",
       "      <th>log_trip_seconds</th>\n",
       "      <th>distance</th>\n",
       "      <th>hour_start</th>\n",
       "      <th>month_start</th>\n",
       "      <th>weekday</th>\n",
       "      <th>pickup_census_tract</th>\n",
       "      <th>dropoff_census_tract</th>\n",
       "      <th>pickup_community_area</th>\n",
       "      <th>dropoff_community_area</th>\n",
       "      <th>pickup_latitude</th>\n",
       "      <th>pickup_longitude</th>\n",
       "      <th>dropoff_latitude</th>\n",
       "      <th>dropoff_longitude</th>\n",
       "    </tr>\n",
       "  </thead>\n",
       "  <tbody>\n",
       "    <tr>\n",
       "      <th>0</th>\n",
       "      <td>6.802395</td>\n",
       "      <td>4511.247153</td>\n",
       "      <td>19</td>\n",
       "      <td>9</td>\n",
       "      <td>Thu</td>\n",
       "      <td>17031061500</td>\n",
       "      <td>17031241400</td>\n",
       "      <td>6</td>\n",
       "      <td>24</td>\n",
       "      <td>41.945282</td>\n",
       "      <td>-87.661545</td>\n",
       "      <td>41.906026</td>\n",
       "      <td>-87.675312</td>\n",
       "    </tr>\n",
       "    <tr>\n",
       "      <th>1</th>\n",
       "      <td>5.886104</td>\n",
       "      <td>3338.217673</td>\n",
       "      <td>2</td>\n",
       "      <td>8</td>\n",
       "      <td>Sat</td>\n",
       "      <td>17031051400</td>\n",
       "      <td>17031241400</td>\n",
       "      <td>5</td>\n",
       "      <td>24</td>\n",
       "      <td>41.935749</td>\n",
       "      <td>-87.680980</td>\n",
       "      <td>41.906026</td>\n",
       "      <td>-87.675312</td>\n",
       "    </tr>\n",
       "    <tr>\n",
       "      <th>2</th>\n",
       "      <td>4.787492</td>\n",
       "      <td>899.739256</td>\n",
       "      <td>20</td>\n",
       "      <td>3</td>\n",
       "      <td>Fri</td>\n",
       "      <td>17031070600</td>\n",
       "      <td>17031062800</td>\n",
       "      <td>7</td>\n",
       "      <td>6</td>\n",
       "      <td>41.928763</td>\n",
       "      <td>-87.665677</td>\n",
       "      <td>41.936159</td>\n",
       "      <td>-87.661265</td>\n",
       "    </tr>\n",
       "    <tr>\n",
       "      <th>3</th>\n",
       "      <td>6.040255</td>\n",
       "      <td>1968.116956</td>\n",
       "      <td>1</td>\n",
       "      <td>2</td>\n",
       "      <td>Sun</td>\n",
       "      <td>17031832100</td>\n",
       "      <td>17031062800</td>\n",
       "      <td>6</td>\n",
       "      <td>6</td>\n",
       "      <td>41.952823</td>\n",
       "      <td>-87.653244</td>\n",
       "      <td>41.936159</td>\n",
       "      <td>-87.661265</td>\n",
       "    </tr>\n",
       "    <tr>\n",
       "      <th>4</th>\n",
       "      <td>7.038784</td>\n",
       "      <td>6303.427819</td>\n",
       "      <td>0</td>\n",
       "      <td>8</td>\n",
       "      <td>Sat</td>\n",
       "      <td>17031243100</td>\n",
       "      <td>17031061902</td>\n",
       "      <td>24</td>\n",
       "      <td>6</td>\n",
       "      <td>41.892355</td>\n",
       "      <td>-87.674507</td>\n",
       "      <td>41.943155</td>\n",
       "      <td>-87.640698</td>\n",
       "    </tr>\n",
       "  </tbody>\n",
       "</table>\n",
       "</div>"
      ],
      "text/plain": [
       "   log_trip_seconds     distance  hour_start  month_start weekday  \\\n",
       "0          6.802395  4511.247153          19            9     Thu   \n",
       "1          5.886104  3338.217673           2            8     Sat   \n",
       "2          4.787492   899.739256          20            3     Fri   \n",
       "3          6.040255  1968.116956           1            2     Sun   \n",
       "4          7.038784  6303.427819           0            8     Sat   \n",
       "\n",
       "   pickup_census_tract  dropoff_census_tract  pickup_community_area  \\\n",
       "0          17031061500           17031241400                      6   \n",
       "1          17031051400           17031241400                      5   \n",
       "2          17031070600           17031062800                      7   \n",
       "3          17031832100           17031062800                      6   \n",
       "4          17031243100           17031061902                     24   \n",
       "\n",
       "   dropoff_community_area  pickup_latitude  pickup_longitude  \\\n",
       "0                      24        41.945282        -87.661545   \n",
       "1                      24        41.935749        -87.680980   \n",
       "2                       6        41.928763        -87.665677   \n",
       "3                       6        41.952823        -87.653244   \n",
       "4                       6        41.892355        -87.674507   \n",
       "\n",
       "   dropoff_latitude  dropoff_longitude  \n",
       "0         41.906026         -87.675312  \n",
       "1         41.906026         -87.675312  \n",
       "2         41.936159         -87.661265  \n",
       "3         41.936159         -87.661265  \n",
       "4         41.943155         -87.640698  "
      ]
     },
     "execution_count": 6,
     "metadata": {},
     "output_type": "execute_result"
    }
   ],
   "source": [
    "df_master = df_test\n",
    "df_master = pd.concat([df_train, df_test,df_val], axis=0)\n",
    "df_master.head()"
   ]
  },
  {
   "cell_type": "markdown",
   "metadata": {},
   "source": [
    "### Distribution of trip duration"
   ]
  },
  {
   "cell_type": "markdown",
   "metadata": {},
   "source": [
    "**Step 1:** Let's check how long the taxi-trips usually last."
   ]
  },
  {
   "cell_type": "code",
   "execution_count": 2,
   "metadata": {},
   "outputs": [],
   "source": [
    "#TODO"
   ]
  },
  {
   "cell_type": "markdown",
   "metadata": {},
   "source": [
    "Are there trips which are either too short or too long?"
   ]
  },
  {
   "cell_type": "code",
   "execution_count": 3,
   "metadata": {},
   "outputs": [],
   "source": [
    "#TODO"
   ]
  },
  {
   "cell_type": "markdown",
   "metadata": {},
   "source": [
    "### Distribution of trip Distance"
   ]
  },
  {
   "cell_type": "markdown",
   "metadata": {},
   "source": [
    "**Step 2:** Do the taxi-trips usually cover only short distances?"
   ]
  },
  {
   "cell_type": "code",
   "execution_count": 4,
   "metadata": {},
   "outputs": [],
   "source": [
    "#TODO"
   ]
  },
  {
   "cell_type": "markdown",
   "metadata": {},
   "source": [
    "Let's, through visualization, get an estimate of the number of taxi-trips having unusually large distances."
   ]
  },
  {
   "cell_type": "code",
   "execution_count": 5,
   "metadata": {},
   "outputs": [],
   "source": [
    "#TODO"
   ]
  },
  {
   "cell_type": "markdown",
   "metadata": {},
   "source": [
    "### No. of distinct Pickup/Drop Communities"
   ]
  },
  {
   "cell_type": "code",
   "execution_count": 11,
   "metadata": {},
   "outputs": [
    {
     "data": {
      "text/plain": [
       "1930"
      ]
     },
     "execution_count": 11,
     "metadata": {},
     "output_type": "execute_result"
    }
   ],
   "source": [
    "df_master['trips_bw_community'] = list(zip(df_master.pickup_community_area, df_master.dropoff_community_area))\n",
    "len(df_master['trips_bw_community'].unique())"
   ]
  },
  {
   "cell_type": "code",
   "execution_count": 12,
   "metadata": {},
   "outputs": [
    {
     "data": {
      "image/png": "[encoded data removed]",
      "text/plain": [
       "<Figure size 432x288 with 1 Axes>"
      ]
     },
     "metadata": {
      "needs_background": "light"
     },
     "output_type": "display_data"
    }
   ],
   "source": [
    "trips = pd.DataFrame(df_master['trips_bw_community'].value_counts())\n",
    "trips_Top100 = trips['trips_bw_community'].head(100)\n",
    "sns.distplot(trips_Top100)\n",
    "plt.show()"
   ]
  },
  {
   "cell_type": "markdown",
   "metadata": {},
   "source": [
    "-Most of the trips skewed towards 0"
   ]
  },
  {
   "cell_type": "markdown",
   "metadata": {},
   "source": [
    "### Top 100 community pair with by number of trips"
   ]
  },
  {
   "cell_type": "markdown",
   "metadata": {},
   "source": [
    "**Step 3:** Let us draw a plot showing the top 100 community-combinations for taxi-rides e.g. most frequent rides between communities (say) A and B, while communities (say) X and Y being the second highest in number, and so on.."
   ]
  },
  {
   "cell_type": "code",
   "execution_count": 7,
   "metadata": {},
   "outputs": [],
   "source": [
    "#TODO"
   ]
  },
  {
   "cell_type": "markdown",
   "metadata": {},
   "source": [
    "### Large/Medium/short distance trips"
   ]
  },
  {
   "cell_type": "markdown",
   "metadata": {},
   "source": [
    "**Step 4:** Let's classify taxi-trips into 4 categories: \"Short\", \"Medium\", \"Large\" and \"Very Large\", based on how many standard deviations away, the 'distance' column values are from the mean."
   ]
  },
  {
   "cell_type": "code",
   "execution_count": 14,
   "metadata": {},
   "outputs": [],
   "source": [
    "def trips_by_distance(n,k=3):\n",
    "    \"\"\"\n",
    "    Arguments: \n",
    "              n -> distance\n",
    "              k -> Standard Deviation\n",
    "    Return:\n",
    "           Segments of 1. Very Large 2. Large 3. Medium 4. Short  \n",
    "             \n",
    "    \"\"\"\n",
    "    if n > (df_master.distance.mean() + 3*df_master.distance.std()):\n",
    "        return \"Very Large\"\n",
    "    elif (n <= (df_master.distance.mean() + 3*df_master.distance.std())) & (n > (df_master.distance.mean() + df_master.distance.std())):\n",
    "        return \"Large\"\n",
    "    elif (n <= (df_master.distance.mean() + df_master.distance.std())) & (n >= (df_master.distance.mean() - df_master.distance.std())):\n",
    "        return \"Medium\"\n",
    "    elif (n < (df_master.distance.mean() - df_master.distance.std())):\n",
    "        return \"Short\"\n",
    "    "
   ]
  },
  {
   "cell_type": "markdown",
   "metadata": {},
   "source": [
    "Apply this helper function to plot how many taxi-trips fall in which of these 4 categories."
   ]
  },
  {
   "cell_type": "code",
   "execution_count": 9,
   "metadata": {},
   "outputs": [],
   "source": [
    "#TODO"
   ]
  },
  {
   "cell_type": "markdown",
   "metadata": {},
   "source": [
    "### Month Parting"
   ]
  },
  {
   "cell_type": "markdown",
   "metadata": {},
   "source": [
    "**Step 5:** Do the taxi-ride distances travelled, change significantly during different months of the year? Or is there any component of seasonality e.g. more during winters and less during summers etc.?\n",
    "\n",
    "Further, how different is the proportion of trip categories (4 selected above), from one month to another?"
   ]
  },
  {
   "cell_type": "code",
   "execution_count": 10,
   "metadata": {},
   "outputs": [],
   "source": [
    "#TODO"
   ]
  },
  {
   "cell_type": "markdown",
   "metadata": {},
   "source": [
    "### Week parting"
   ]
  },
  {
   "cell_type": "markdown",
   "metadata": {},
   "source": [
    "**Step 6:** Repeat the previous step, this time according to Day of the Week."
   ]
  },
  {
   "cell_type": "code",
   "execution_count": 12,
   "metadata": {},
   "outputs": [],
   "source": [
    "#TODO"
   ]
  },
  {
   "cell_type": "markdown",
   "metadata": {},
   "source": [
    "### Day Parting"
   ]
  },
  {
   "cell_type": "markdown",
   "metadata": {},
   "source": [
    "**Step 7:** Is the distribution of taxi-ride distance travelled, uniform across different hours of the day? Let's find out.."
   ]
  },
  {
   "cell_type": "code",
   "execution_count": 13,
   "metadata": {},
   "outputs": [],
   "source": [
    "#TODO"
   ]
  },
  {
   "cell_type": "markdown",
   "metadata": {},
   "source": [
    "### Correlation Matrix"
   ]
  },
  {
   "cell_type": "markdown",
   "metadata": {},
   "source": [
    "**Step 8:** Let's plot a matrix showing correlation between all numerical columns in the dataset."
   ]
  },
  {
   "cell_type": "code",
   "execution_count": 14,
   "metadata": {},
   "outputs": [],
   "source": [
    "#TODO"
   ]
  },
  {
   "cell_type": "markdown",
   "metadata": {},
   "source": [
    "### Scatter plots of pick-up and drop-off locations"
   ]
  },
  {
   "cell_type": "markdown",
   "metadata": {},
   "source": [
    "**Step 9:** Let's plot the locations of start and end points of taxi-rides, based on their longitude and latitude values."
   ]
  },
  {
   "cell_type": "code",
   "execution_count": 15,
   "metadata": {},
   "outputs": [],
   "source": [
    "#TODO"
   ]
  },
  {
   "cell_type": "code",
   "execution_count": null,
   "metadata": {},
   "outputs": [],
   "source": []
  }
 ],
 "metadata": {
  "environment": {
   "name": "tf-gpu.1-15.m46",
   "type": "gcloud",
   "uri": "gcr.io/deeplearning-platform-release/tf-gpu.1-15:m46"
  },
  "kernelspec": {
   "display_name": "Python 3",
   "language": "python",
   "name": "python3"
  },
  "language_info": {
   "codemirror_mode": {
    "name": "ipython",
    "version": 3
   },
   "file_extension": ".py",
   "mimetype": "text/x-python",
   "name": "python",
   "nbconvert_exporter": "python",
   "pygments_lexer": "ipython3",
   "version": "3.7.6"
  }
 },
 "nbformat": 4,
 "nbformat_minor": 4
}
