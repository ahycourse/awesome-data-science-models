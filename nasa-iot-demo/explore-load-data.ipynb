{
 "cells": [
  {
   "cell_type": "code",
   "execution_count": 28,
   "metadata": {},
   "outputs": [],
   "source": [
    "\"\"\"\n",
    "see: https://github.com/BLarzalere/LSTM-Autoencoder-for-Anomaly-Detection/blob/master/Sensor%20Anomaly%20Detection.ipynb\n",
    "\"\"\"\n",
    "import pandas as pd\n",
    "from tqdm import tqdm"
   ]
  },
  {
   "cell_type": "code",
   "execution_count": 31,
   "metadata": {},
   "outputs": [
    {
     "name": "stdout",
     "output_type": "stream",
     "text": [
      "Creating gs://dlaw_bucket/...\n",
      "ServiceException: 409 Bucket dlaw_bucket already exists.\n"
     ]
    }
   ],
   "source": [
    "# Create a bucket in the current project\n",
    "BUCKET_NAME = \"dlaw_bucket\"\n",
    "!gsutil mb gs://$BUCKET_NAME"
   ]
  },
  {
   "cell_type": "code",
   "execution_count": 40,
   "metadata": {},
   "outputs": [
    {
     "name": "stderr",
     "output_type": "stream",
     "text": [
      "100%|██████████| 982/982 [01:45<00:00,  9.32it/s]"
     ]
    },
    {
     "name": "stdout",
     "output_type": "stream",
     "text": [
      "982\n"
     ]
    },
    {
     "name": "stderr",
     "output_type": "stream",
     "text": [
      "\n"
     ]
    }
   ],
   "source": [
    "source_bucket_name = \"amazing-public-data\"\n",
    "merged_data = pd.DataFrame()\n",
    "\n",
    "client = storage.Client()\n",
    "prefix = \"bearing_sensor_data/bearing_sensor_data/\"\n",
    "blobs = client.list_blobs(source_bucket_name, prefix=prefix)\n",
    "\n",
    "files = []\n",
    "for blob in tqdm(blobs, total=982):\n",
    "    dataset = pd.read_csv(\"gs://{0}/{1}\".format(source_bucket_name, blob.name), sep='\\t')\n",
    "    dataset_mean_abs = np.array(dataset.abs().mean())\n",
    "    dataset_mean_abs = pd.DataFrame(dataset_mean_abs.reshape(1, 4))\n",
    "    dataset_mean_abs.index = [blob.name.split(\"/\")[-1]]\n",
    "    merged_data = merged_data.append(dataset_mean_abs)\n",
    "    files.append(blob.name)\n",
    "\n",
    "merged_data.columns = ['bearing-1', 'bearing-2', 'bearing-3', 'bearing-4']\n",
    "print(len(files))"
   ]
  },
  {
   "cell_type": "code",
   "execution_count": 41,
   "metadata": {},
   "outputs": [
    {
     "data": {
      "text/html": [
       "<div>\n",
       "<style scoped>\n",
       "    .dataframe tbody tr th:only-of-type {\n",
       "        vertical-align: middle;\n",
       "    }\n",
       "\n",
       "    .dataframe tbody tr th {\n",
       "        vertical-align: top;\n",
       "    }\n",
       "\n",
       "    .dataframe thead th {\n",
       "        text-align: right;\n",
       "    }\n",
       "</style>\n",
       "<table border=\"1\" class=\"dataframe\">\n",
       "  <thead>\n",
       "    <tr style=\"text-align: right;\">\n",
       "      <th></th>\n",
       "      <th>bearing-1</th>\n",
       "      <th>bearing-2</th>\n",
       "      <th>bearing-3</th>\n",
       "      <th>bearing-4</th>\n",
       "    </tr>\n",
       "  </thead>\n",
       "  <tbody>\n",
       "    <tr>\n",
       "      <th>2004.02.12.10.52.39</th>\n",
       "      <td>0.060236</td>\n",
       "      <td>0.074227</td>\n",
       "      <td>0.083926</td>\n",
       "      <td>0.044443</td>\n",
       "    </tr>\n",
       "    <tr>\n",
       "      <th>2004.02.12.11.02.39</th>\n",
       "      <td>0.061455</td>\n",
       "      <td>0.073844</td>\n",
       "      <td>0.084457</td>\n",
       "      <td>0.045081</td>\n",
       "    </tr>\n",
       "    <tr>\n",
       "      <th>2004.02.12.11.12.39</th>\n",
       "      <td>0.061361</td>\n",
       "      <td>0.075609</td>\n",
       "      <td>0.082837</td>\n",
       "      <td>0.045118</td>\n",
       "    </tr>\n",
       "    <tr>\n",
       "      <th>2004.02.12.11.22.39</th>\n",
       "      <td>0.061665</td>\n",
       "      <td>0.073279</td>\n",
       "      <td>0.084879</td>\n",
       "      <td>0.044172</td>\n",
       "    </tr>\n",
       "    <tr>\n",
       "      <th>2004.02.12.11.32.39</th>\n",
       "      <td>0.061944</td>\n",
       "      <td>0.074593</td>\n",
       "      <td>0.082626</td>\n",
       "      <td>0.044659</td>\n",
       "    </tr>\n",
       "  </tbody>\n",
       "</table>\n",
       "</div>"
      ],
      "text/plain": [
       "                     bearing-1  bearing-2  bearing-3  bearing-4\n",
       "2004.02.12.10.52.39   0.060236   0.074227   0.083926   0.044443\n",
       "2004.02.12.11.02.39   0.061455   0.073844   0.084457   0.045081\n",
       "2004.02.12.11.12.39   0.061361   0.075609   0.082837   0.045118\n",
       "2004.02.12.11.22.39   0.061665   0.073279   0.084879   0.044172\n",
       "2004.02.12.11.32.39   0.061944   0.074593   0.082626   0.044659"
      ]
     },
     "execution_count": 41,
     "metadata": {},
     "output_type": "execute_result"
    }
   ],
   "source": [
    "merged_data.head()"
   ]
  },
  {
   "cell_type": "code",
   "execution_count": 42,
   "metadata": {},
   "outputs": [
    {
     "name": "stdout",
     "output_type": "stream",
     "text": [
      "Dataset shape: (982, 4)\n"
     ]
    },
    {
     "data": {
      "text/html": [
       "<div>\n",
       "<style scoped>\n",
       "    .dataframe tbody tr th:only-of-type {\n",
       "        vertical-align: middle;\n",
       "    }\n",
       "\n",
       "    .dataframe tbody tr th {\n",
       "        vertical-align: top;\n",
       "    }\n",
       "\n",
       "    .dataframe thead th {\n",
       "        text-align: right;\n",
       "    }\n",
       "</style>\n",
       "<table border=\"1\" class=\"dataframe\">\n",
       "  <thead>\n",
       "    <tr style=\"text-align: right;\">\n",
       "      <th></th>\n",
       "      <th>bearing-1</th>\n",
       "      <th>bearing-2</th>\n",
       "      <th>bearing-3</th>\n",
       "      <th>bearing-4</th>\n",
       "    </tr>\n",
       "  </thead>\n",
       "  <tbody>\n",
       "    <tr>\n",
       "      <th>2004-02-12 10:52:39</th>\n",
       "      <td>0.060236</td>\n",
       "      <td>0.074227</td>\n",
       "      <td>0.083926</td>\n",
       "      <td>0.044443</td>\n",
       "    </tr>\n",
       "    <tr>\n",
       "      <th>2004-02-12 11:02:39</th>\n",
       "      <td>0.061455</td>\n",
       "      <td>0.073844</td>\n",
       "      <td>0.084457</td>\n",
       "      <td>0.045081</td>\n",
       "    </tr>\n",
       "    <tr>\n",
       "      <th>2004-02-12 11:12:39</th>\n",
       "      <td>0.061361</td>\n",
       "      <td>0.075609</td>\n",
       "      <td>0.082837</td>\n",
       "      <td>0.045118</td>\n",
       "    </tr>\n",
       "    <tr>\n",
       "      <th>2004-02-12 11:22:39</th>\n",
       "      <td>0.061665</td>\n",
       "      <td>0.073279</td>\n",
       "      <td>0.084879</td>\n",
       "      <td>0.044172</td>\n",
       "    </tr>\n",
       "    <tr>\n",
       "      <th>2004-02-12 11:32:39</th>\n",
       "      <td>0.061944</td>\n",
       "      <td>0.074593</td>\n",
       "      <td>0.082626</td>\n",
       "      <td>0.044659</td>\n",
       "    </tr>\n",
       "  </tbody>\n",
       "</table>\n",
       "</div>"
      ],
      "text/plain": [
       "                     bearing-1  bearing-2  bearing-3  bearing-4\n",
       "2004-02-12 10:52:39   0.060236   0.074227   0.083926   0.044443\n",
       "2004-02-12 11:02:39   0.061455   0.073844   0.084457   0.045081\n",
       "2004-02-12 11:12:39   0.061361   0.075609   0.082837   0.045118\n",
       "2004-02-12 11:22:39   0.061665   0.073279   0.084879   0.044172\n",
       "2004-02-12 11:32:39   0.061944   0.074593   0.082626   0.044659"
      ]
     },
     "execution_count": 42,
     "metadata": {},
     "output_type": "execute_result"
    }
   ],
   "source": [
    "# transform data file index to datetime and sort in chronological order\n",
    "merged_data.index = pd.to_datetime(merged_data.index, format='%Y.%m.%d.%H.%M.%S')\n",
    "merged_data = merged_data.sort_index()\n",
    "print(\"Dataset shape:\", merged_data.shape)\n",
    "merged_data.head()"
   ]
  },
  {
   "cell_type": "code",
   "execution_count": 43,
   "metadata": {},
   "outputs": [],
   "source": [
    "DEST_FILE_NAME = \"raw_bearing_data.csv\"\n",
    "merged_data.to_csv(f\"gs://{BUCKET_NAME}/{DEST_FILE_NAME}\")"
   ]
  }
 ],
 "metadata": {
  "environment": {
   "name": "tf-gpu.1-15.m59",
   "type": "gcloud",
   "uri": "gcr.io/deeplearning-platform-release/tf-gpu.1-15:m59"
  },
  "kernelspec": {
   "display_name": "Python 3",
   "language": "python",
   "name": "python3"
  },
  "language_info": {
   "codemirror_mode": {
    "name": "ipython",
    "version": 3
   },
   "file_extension": ".py",
   "mimetype": "text/x-python",
   "name": "python",
   "nbconvert_exporter": "python",
   "pygments_lexer": "ipython3",
   "version": "3.7.8"
  }
 },
 "nbformat": 4,
 "nbformat_minor": 4
}
