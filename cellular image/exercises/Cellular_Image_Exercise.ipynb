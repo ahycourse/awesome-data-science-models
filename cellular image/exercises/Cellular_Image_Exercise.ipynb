{
 "cells": [
  {
   "cell_type": "markdown",
   "metadata": {},
   "source": [
    "# Cellular Imaging Demo\n",
    "\n",
    "We will be using the Malaria dataset in this demo.\n",
    "\n",
    "The TDFS Malaria dataset contains a total of 27,558 cell images with equal instances of parasitized and uninfected cells from the thin blood smear slide images of segmented cells. The original data source is from [NIH](https://lhncbc.nlm.nih.gov/publication/pub9932).\n",
    "\n",
    "This lab runs training on AI Platform on CPUs, TPUs, and GPUs.\n",
    "\n",
    "No predictions are run in this lab, but you can view the model training code in /trainer/.trainer.py."
   ]
  },
  {
   "cell_type": "markdown",
   "metadata": {},
   "source": [
    "## Step 1\n",
    "\n",
    "## Repository Cloning and Setup"
   ]
  },
  {
   "cell_type": "code",
   "execution_count": null,
   "metadata": {},
   "outputs": [],
   "source": [
    "!echo $PWD"
   ]
  },
  {
   "cell_type": "code",
   "execution_count": null,
   "metadata": {},
   "outputs": [],
   "source": [
    "#copy the tensor flow repo from git hub\n",
    "\n",
    "!git clone https://github.com/tensorflow/models.git \\\n",
    "  --branch=v2.1.0 \\\n",
    "  --depth=1"
   ]
  },
  {
   "cell_type": "code",
   "execution_count": null,
   "metadata": {},
   "outputs": [],
   "source": [
    "#copy the trainer folder inside the model folder\n",
    "\n",
    "!cp -r trainer  models/"
   ]
  },
  {
   "cell_type": "code",
   "execution_count": null,
   "metadata": {},
   "outputs": [],
   "source": [
    "# Change the current working directory to models\n",
    "import os\n",
    "os.chdir('models/')\n",
    "\n",
    "os.getcwd()"
   ]
  },
  {
   "cell_type": "code",
   "execution_count": null,
   "metadata": {},
   "outputs": [],
   "source": [
    "# Create the setup.py file"
   ]
  },
  {
   "cell_type": "code",
   "execution_count": null,
   "metadata": {},
   "outputs": [],
   "source": [
    "%%writefile setup.py\n",
    "from setuptools import find_packages\n",
    "from setuptools import setup\n",
    "\n",
    "REQUIRED_PACKAGES=['tensorflow-datasets~=3.1', \n",
    "                   'pip>=20.2',\n",
    "                   'absl-py<0.9,>=0.7']\n",
    "\n",
    "setup(\n",
    "    name='official',\n",
    "    _version_='0.1',\n",
    "    install_requires=REQUIRED_PACKAGES,\n",
    "    include_package_data=True,\n",
    "    packages=find_packages()\n",
    ")"
   ]
  },
  {
   "cell_type": "markdown",
   "metadata": {},
   "source": [
    "# Step 2\n",
    "\n",
    "## Training the model on the AI platform with CPUs"
   ]
  },
  {
   "cell_type": "markdown",
   "metadata": {},
   "source": [
    "Please replace the *project_id*, the *bucket_id*, *folder_path*, *region*, and *data_dir* with proper values.\n",
    "The gsutil command will create the proper bucket for you, and if one already exists, a message will be displayed."
   ]
  },
  {
   "cell_type": "code",
   "execution_count": null,
   "metadata": {},
   "outputs": [],
   "source": [
    "project_id='ai-fulcrum-demo'\n",
    "bucket_id='maven-user10'\n",
    "student_path='cellular-image'\n",
    "region='us-central1'\n",
    "data_dir='amazing-public-data/Cellular_Imaging_Data'\n",
    "!gsutil mb -c standard -l {region} gs://{bucket_id}"
   ]
  },
  {
   "cell_type": "code",
   "execution_count": null,
   "metadata": {},
   "outputs": [],
   "source": [
    "bucket_path=f'{bucket_id}/{student_path}'\n",
    "model_dir=f'{bucket_path}/cellular_img__CPU_model_files'\n",
    "\n",
    "%env BUCKET_ID=$bucket_id\n",
    "%env PROJECT_ID=$project_id\n",
    "%env REGION=$region\n",
    "%env DATA_DIR=$data_dir\n",
    "%env MODEL_DIR=$model_dir"
   ]
  },
  {
   "cell_type": "code",
   "execution_count": null,
   "metadata": {},
   "outputs": [],
   "source": [
    "import time\n",
    "from datetime import datetime, timedelta"
   ]
  },
  {
   "cell_type": "code",
   "execution_count": null,
   "metadata": {},
   "outputs": [],
   "source": [
    "now=(datetime.now() + timedelta(hours=-5)).strftime(\"%Y%m%d_%H%M%S\") # Central Time\n",
    "%env JOB_NAME=cellular_img_CPU{now}\n",
    "\n",
    "!gcloud ai-platform jobs submit training $JOB_NAME \\\n",
    "  --package-path trainer \\\n",
    "  --module-name trainer.trainer  \\\n",
    "  --region $REGION \\\n",
    "  --python-version 3.7 \\\n",
    "  --runtime-version 2.1 \\\n",
    "  --staging-bucket gs://$BUCKET_ID \\\n",
    "  -- \\\n",
    "  --tpu local \\\n",
    "  --model_dir gs://$MODEL_DIR \\\n",
    "  --data_dir gs://$DATA_DIR \\\n",
    "  --train_epochs 1 \\\n",
    "  --distribution_strategy off \\\n",
    "  --num_gpus 0 \\\n",
    "  --download False\n",
    "\n",
    "                \n",
    "# Stream logs so that training is done before subsequent cells are run.\n",
    "# Remove  '> /dev/null' to see step-by-step output of the model build steps.\n",
    "# !gcloud ai-platform jobs stream-logs $JOB_NAME > /dev/null\n",
    "\n",
    "# Show the current status of the job\n",
    "!gcloud ai-platform jobs describe $JOB_NAME --format=\"value(state)\"\n",
    "\n",
    "# This code loops 20 times to show the job status within the Python notebook.\n",
    "# The model should exit with a status of \"SUCCEEDED.\"\n",
    "# (If it does not within 20 loops, you can check on the job in the terminal window with the first suggested bash line in the output below.)\n",
    "cmd = 'gcloud ai-platform jobs describe $JOB_NAME --format=\"value(state)\"'\n",
    "for i in range(20):\n",
    "    time.sleep(10)\n",
    "    !{cmd}"
   ]
  },
  {
   "cell_type": "markdown",
   "metadata": {},
   "source": [
    "# Step 3\n",
    "\n",
    "### Train the model on the AI Platform Using TPUs"
   ]
  },
  {
   "cell_type": "markdown",
   "metadata": {},
   "source": [
    "#### Prerequisites before using a Cloud TPU\n",
    "#### Authorizing your Cloud TPU to access your project \n",
    "\n",
    "[TPU Environment Setup](https://cloud.google.com/ai-platform/training/docs/using-tpus#console) - These steps need to be executed by the Data Enginner for setting up the environment to use the TPU's. "
   ]
  },
  {
   "cell_type": "code",
   "execution_count": null,
   "metadata": {},
   "outputs": [],
   "source": [
    "now=(datetime.now() + timedelta(hours=-5)).strftime(\"%Y%m%d_%H%M%S\") # Central Time\n",
    "%env JOB_NAME=cellular_img_TPU{now}\n",
    "\n",
    "!gcloud ai-platform jobs submit training $JOB_NAME \\\n",
    "  --scale-tier BASIC_TPU \\\n",
    "  --package-path trainer \\\n",
    "  --module-name trainer.trainer  \\\n",
    "  --region $REGION \\\n",
    "  --python-version 3.7 \\\n",
    "  --runtime-version 2.1 \\\n",
    "  --staging-bucket gs://$BUCKET_ID \\\n",
    "  -- \\\n",
    "  --model_dir gs://$MODEL_DIR \\\n",
    "  --data_dir gs://$DATA_DIR \\\n",
    "  --train_epochs 1 \\\n",
    "  --distribution_strategy tpu \\\n",
    "  --download False\n",
    "\n",
    "                \n",
    "# Stream logs so that training is done before subsequent cells are run.\n",
    "# Remove  '> /dev/null' to see step-by-step output of the model build steps.\n",
    "# !gcloud ai-platform jobs stream-logs $JOB_NAME > /dev/null\n",
    "\n",
    "# Show the current status of the job\n",
    "!gcloud ai-platform jobs describe $JOB_NAME --format=\"value(state)\"\n",
    "\n",
    "# This code loops 20 times to show the job status within the Python notebook.\n",
    "# The model should exit with a status of \"SUCCEEDED.\"\n",
    "# (If it does not within 20 loops, you can check on the job in the terminal window with the first suggested bash line in the output below.)\n",
    "cmd = 'gcloud ai-platform jobs describe $JOB_NAME --format=\"value(state)\"'\n",
    "for i in range(20):\n",
    "    time.sleep(10)\n",
    "    !{cmd}"
   ]
  },
  {
   "cell_type": "markdown",
   "metadata": {},
   "source": [
    "Once the CPU job and TPU jobs have completed, run the \"gcloud ai-platform jobs describe\" command in the terminal for each job. You should see the TPU job ran about 30% faster. (Look at the job createTime and endTime stats.)"
   ]
  },
  {
   "cell_type": "markdown",
   "metadata": {},
   "source": [
    "# Step 4\n",
    "\n",
    "### Train the model on the AI Platform Using GPUs"
   ]
  },
  {
   "cell_type": "markdown",
   "metadata": {},
   "source": [
    "Useful Links :\n",
    "1. [Distributed Taining](https://www.tensorflow.org/guide/distributed_training)\n",
    "1. [Mirrored Strategy](https://www.tensorflow.org/api_docs/python/tf/distribute/MirroredStrategy)\n",
    "1. [Using GPU's in AI Platform](https://cloud.google.com/ai-platform/training/docs/using-gpus) "
   ]
  },
  {
   "cell_type": "code",
   "execution_count": null,
   "metadata": {},
   "outputs": [],
   "source": [
    "now=(datetime.now() + timedelta(hours=-5)).strftime(\"%Y%m%d_%H%M%S\") # Central Time\n",
    "%env JOB_NAME=cellular_img_GPU{now}\n",
    "\n",
    "!gcloud ai-platform jobs submit training $JOB_NAME \\\n",
    "  --scale-tier <ADD HERE> \\\n",
    "  --package-path <ADD HERE> \\\n",
    "  --module-name <ADD HERE>  \\\n",
    "  --region us-east1 \\\n",
    "  --python-version 3.7 \\\n",
    "  --runtime-version 2.1 \\\n",
    "  --staging-bucket <ADD HERE> \\\n",
    "  -- \\\n",
    "  --model_dir <ADD HERE> \\\n",
    "  --data_dir <ADD HERE> \\\n",
    "  --train_epochs 1 \\\n",
    "  --num_gpus=<ADD HERE> \\ # You can use 1 for now\n",
    "  --distribution_strategy <ADD HERE>  \\\n",
    "  --download False\n",
    "\n",
    "                \n",
    "# Stream logs so that training is done before subsequent cells are run.\n",
    "# Remove  '> /dev/null' to see step-by-step output of the model build steps.\n",
    "# !gcloud ai-platform jobs stream-logs $JOB_NAME > /dev/null\n",
    "\n",
    "# Show the current status of the job\n",
    "!gcloud ai-platform jobs describe $JOB_NAME --format=\"value(state)\"\n",
    "\n",
    "# This code loops 20 times to show the job status within the Python notebook.\n",
    "# The model should exit with a status of \"SUCCEEDED.\"\n",
    "# (If it does not within 20 loops, you can check on the job in the terminal window with the first suggested bash line in the output below.)\n",
    "cmd = 'gcloud ai-platform jobs describe $JOB_NAME --format=\"value(state)\"'\n",
    "for i in range(20):\n",
    "    time.sleep(10)\n",
    "    !{cmd}"
   ]
  },
  {
   "cell_type": "markdown",
   "metadata": {},
   "source": [
    "If you run the \"gcloud ai-platform jobs describe\" command in the terminal for the GPU job, you'll find it's run time is closer to the TPU than the CPU. (Look at the job createTime and endTime stats.)"
   ]
  }
 ],
 "metadata": {
  "environment": {
   "name": "tf2-gpu.2-1.m55",
   "type": "gcloud",
   "uri": "gcr.io/deeplearning-platform-release/tf2-gpu.2-1:m55"
  },
  "kernelspec": {
   "display_name": "Python 3",
   "language": "python",
   "name": "python3"
  },
  "language_info": {
   "codemirror_mode": {
    "name": "ipython",
    "version": 3
   },
   "file_extension": ".py",
   "mimetype": "text/x-python",
   "name": "python",
   "nbconvert_exporter": "python",
   "pygments_lexer": "ipython3",
   "version": "3.7.4"
  }
 },
 "nbformat": 4,
 "nbformat_minor": 4
}
