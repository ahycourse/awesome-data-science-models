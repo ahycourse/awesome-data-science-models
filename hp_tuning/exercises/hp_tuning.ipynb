{
 "cells": [
  {
   "cell_type": "markdown",
   "metadata": {},
   "source": [
    "<h1 style='text-align:center;color:slategray'>XGBoost Hyperparameter Tuning</h1>"
   ]
  },
  {
   "cell_type": "code",
   "execution_count": 18,
   "metadata": {},
   "outputs": [],
   "source": [
    "# imports\n",
    "import pandas as pd\n",
    "import numpy as np\n",
    "import json\n",
    "import time\n",
    "from datetime import datetime, timedelta"
   ]
  },
  {
   "cell_type": "code",
   "execution_count": 1,
   "metadata": {},
   "outputs": [],
   "source": [
    "# Replace <PROJECT_ID>, <BUCKET_ID>, and <FOLDER> with proper Project, Bucket ID, and Folder.\n",
    "# project = '<PROJECT_ID>'\n",
    "# bucket = '<BUCKET_ID>'\n",
    "# folder = '<FOLDER>'\n",
    "# region = 'us-central1'\n",
    "\n",
    "project = 'mwpmltr'\n",
    "bucket = 'bjacob_bucket'\n",
    "folder = 'census_income'\n",
    "region = 'us-central1'"
   ]
  },
  {
   "cell_type": "code",
   "execution_count": 2,
   "metadata": {},
   "outputs": [
    {
     "name": "stdout",
     "output_type": "stream",
     "text": [
      "env: PROJECT_ID=mwpmltr\n",
      "env: BUCKET_ID=bjacob_bucket\n",
      "env: BUCKET_PATH=bjacob_bucket/census_income\n",
      "Creating gs://bjacob_bucket/...\n",
      "ServiceException: 409 Bucket bjacob_bucket already exists.\n"
     ]
    }
   ],
   "source": [
    "bucket_path=f'{bucket}/{folder}'\n",
    "%env PROJECT_ID=$project\n",
    "%env BUCKET_ID=$bucket\n",
    "%env BUCKET_PATH=$bucket_path\n",
    "!gsutil mb -c standard -l {region} gs://{bucket}"
   ]
  },
  {
   "cell_type": "code",
   "execution_count": 10,
   "metadata": {},
   "outputs": [
    {
     "name": "stdout",
     "output_type": "stream",
     "text": [
      "env: REGION=us-central1\n",
      "env: TRAINER_PACKAGE_PATH=./trainer\n",
      "env: MAIN_TRAINER_MODULE=trainer.task_xgboost\n",
      "env: RUNTIME_VERSION=2.2\n",
      "env: PYTHON_VERSION=3.7\n",
      "env: HPTUNING_CONFIG=trainer/hptuning_config_xgboost.yaml\n"
     ]
    }
   ],
   "source": [
    "%env REGION us-central1\n",
    "%env TRAINER_PACKAGE_PATH ./trainer\n",
    "%env MAIN_TRAINER_MODULE trainer.task_xgboost\n",
    "%env RUNTIME_VERSION=2.2\n",
    "%env PYTHON_VERSION=3.7\n",
    "%env HPTUNING_CONFIG trainer/hptuning_config_xgboost.yaml"
   ]
  },
  {
   "cell_type": "code",
   "execution_count": 13,
   "metadata": {},
   "outputs": [
    {
     "name": "stdout",
     "output_type": "stream",
     "text": [
      "env: JOB_NAME=census_income_xgboost_job_20201207_182332\n",
      "Job [census_income_xgboost_job_20201207_182332] submitted successfully.\n",
      "Your job is still active. You may view the status of your job with the command\n",
      "\n",
      "  $ gcloud ai-platform jobs describe census_income_xgboost_job_20201207_182332\n",
      "\n",
      "or continue streaming the logs with the command\n",
      "\n",
      "  $ gcloud ai-platform jobs stream-logs census_income_xgboost_job_20201207_182332\n",
      "jobId: census_income_xgboost_job_20201207_182332\n",
      "state: QUEUED\n"
     ]
    }
   ],
   "source": [
    "now=(datetime.now() + timedelta(hours=-5)).strftime(\"%Y%m%d_%H%M%S\") # Eastern Time\n",
    "%env JOB_NAME=census_income_xgboost_job_{now}\n",
    "\n",
    "!gcloud ai-platform jobs submit training $JOB_NAME \\\n",
    "  --job-dir gs://${BUCKET_PATH}/jobdir \\\n",
    "  --package-path $TRAINER_PACKAGE_PATH \\\n",
    "  --module-name $MAIN_TRAINER_MODULE \\\n",
    "  --region $REGION \\\n",
    "  --runtime-version $RUNTIME_VERSION \\\n",
    "  --python-version $PYTHON_VERSION \\\n",
    "  --scale-tier basic \\\n",
    "  --config $HPTUNING_CONFIG \\\n",
    "  -- \\\n",
    "  --metric auc \\\n",
    "  --run_type cloud"
   ]
  },
  {
   "cell_type": "code",
   "execution_count": 14,
   "metadata": {},
   "outputs": [
    {
     "name": "stdout",
     "output_type": "stream",
     "text": [
      "Waiting for AI-Platform job to complete ...\n",
      "Finished.\n"
     ]
    }
   ],
   "source": [
    "print('Waiting for AI-Platform job to complete ...')\n",
    "job_outpt = !gcloud ai-platform jobs describe --format json $JOB_NAME\n",
    "outpt_dict = json.loads(job_outpt.get_spstr())\n",
    "while outpt_dict['state'] not in ['SUCCEEDED', 'FAILED', 'CANCELLED', 'CANCELLING']:\n",
    "    time.sleep(30)\n",
    "    job_outpt = !gcloud ai-platform jobs describe --format json $JOB_NAME\n",
    "    outpt_dict = json.loads(job_outpt.get_spstr())\n",
    "if outpt_dict['state'] != 'SUCCEEDED':\n",
    "    !gcloud ai-platform jobs describe $JOB_NAME\n",
    "    raise(Exception('There was an issue with the AI-Platform Job. Please see the logs for information.'))\n",
    "print('Finished.')"
   ]
  },
  {
   "cell_type": "code",
   "execution_count": 19,
   "metadata": {},
   "outputs": [
    {
     "data": {
      "text/html": [
       "<div>\n",
       "<style scoped>\n",
       "    .dataframe tbody tr th:only-of-type {\n",
       "        vertical-align: middle;\n",
       "    }\n",
       "\n",
       "    .dataframe tbody tr th {\n",
       "        vertical-align: top;\n",
       "    }\n",
       "\n",
       "    .dataframe thead th {\n",
       "        text-align: right;\n",
       "    }\n",
       "</style>\n",
       "<table border=\"1\" class=\"dataframe\">\n",
       "  <thead>\n",
       "    <tr style=\"text-align: right;\">\n",
       "      <th>Trial_ID</th>\n",
       "      <th>2</th>\n",
       "      <th>1</th>\n",
       "    </tr>\n",
       "  </thead>\n",
       "  <tbody>\n",
       "    <tr>\n",
       "      <th>ROC_AUC</th>\n",
       "      <td>0.9254</td>\n",
       "      <td>0.9242</td>\n",
       "    </tr>\n",
       "    <tr>\n",
       "      <th>class_weight_ratio</th>\n",
       "      <td>2.3728</td>\n",
       "      <td>2.5000</td>\n",
       "    </tr>\n",
       "    <tr>\n",
       "      <th>learning_rate</th>\n",
       "      <td>0.4408</td>\n",
       "      <td>0.3250</td>\n",
       "    </tr>\n",
       "    <tr>\n",
       "      <th>max_depth</th>\n",
       "      <td>8.0000</td>\n",
       "      <td>11.0000</td>\n",
       "    </tr>\n",
       "    <tr>\n",
       "      <th>num_boost_round</th>\n",
       "      <td>60.0000</td>\n",
       "      <td>60.0000</td>\n",
       "    </tr>\n",
       "  </tbody>\n",
       "</table>\n",
       "</div>"
      ],
      "text/plain": [
       "Trial_ID                 2       1\n",
       "ROC_AUC             0.9254  0.9242\n",
       "class_weight_ratio  2.3728  2.5000\n",
       "learning_rate       0.4408  0.3250\n",
       "max_depth           8.0000 11.0000\n",
       "num_boost_round    60.0000 60.0000"
      ]
     },
     "execution_count": 19,
     "metadata": {},
     "output_type": "execute_result"
    }
   ],
   "source": [
    "trials = outpt_dict['trainingOutput']['trials']\n",
    "scores = [float(t['finalMetric']['objectiveValue']) for t in trials]\n",
    "trial_ids = [t['trialId'] for t in trials]\n",
    "hypers = pd.DataFrame([t['hyperparameters'] for t in trials], dtype=np.float64)\n",
    "max_idx = np.argmax(scores)\n",
    "job_df = pd.DataFrame({'Trial_ID': trial_ids, 'ROC_AUC': scores})\n",
    "job_df = job_df.merge(hypers, left_index=True, right_index=True).set_index('Trial_ID')\n",
    "pd.options.display.float_format = '{:,.4f}'.format\n",
    "for col in job_df.columns:\n",
    "    if col in ['batch_size', 'hidden_depth', 'hidden_nodes', 'lr_decay_param']:\n",
    "        job_df[col] = job_df[col].astype('int')\n",
    "    job_df[col] = job_df[col].astype('object')  # force correct display of ints and floats after transpose\n",
    "job_df.head(5).T"
   ]
  },
  {
   "cell_type": "markdown",
   "metadata": {},
   "source": [
    "<h1 style='text-align:center;color:slategray'>Tensorflow Hyperparameter Tuning</h1>"
   ]
  },
  {
   "cell_type": "code",
   "execution_count": 34,
   "metadata": {},
   "outputs": [
    {
     "name": "stdout",
     "output_type": "stream",
     "text": [
      "env: REGION=us-central1\n",
      "env: TRAINER_PACKAGE_PATH=./trainer\n",
      "env: MAIN_TRAINER_MODULE=trainer.task_tensorflow\n",
      "env: RUNTIME_VERSION=2.2\n",
      "env: PYTHON_VERSION=3.7\n",
      "env: HPTUNING_CONFIG=trainer/hptuning_config_tensorflow.yaml\n"
     ]
    }
   ],
   "source": [
    "%env REGION us-central1\n",
    "%env TRAINER_PACKAGE_PATH ./trainer\n",
    "%env MAIN_TRAINER_MODULE trainer.task_tensorflow\n",
    "%env RUNTIME_VERSION=2.2\n",
    "%env PYTHON_VERSION=3.7\n",
    "%env HPTUNING_CONFIG trainer/hptuning_config_tensorflow.yaml"
   ]
  },
  {
   "cell_type": "code",
   "execution_count": 35,
   "metadata": {},
   "outputs": [
    {
     "name": "stdout",
     "output_type": "stream",
     "text": [
      "env: JOB_NAME=census_income_tensorflow_job_20201207_200629\n",
      "Job [census_income_tensorflow_job_20201207_200629] submitted successfully.\n",
      "Your job is still active. You may view the status of your job with the command\n",
      "\n",
      "  $ gcloud ai-platform jobs describe census_income_tensorflow_job_20201207_200629\n",
      "\n",
      "or continue streaming the logs with the command\n",
      "\n",
      "  $ gcloud ai-platform jobs stream-logs census_income_tensorflow_job_20201207_200629\n",
      "jobId: census_income_tensorflow_job_20201207_200629\n",
      "state: QUEUED\n"
     ]
    }
   ],
   "source": [
    "now=(datetime.now() + timedelta(hours=-5)).strftime(\"%Y%m%d_%H%M%S\") # Eastern Time\n",
    "%env JOB_NAME=census_income_tensorflow_job_{now}\n",
    "\n",
    "!gcloud ai-platform jobs submit training $JOB_NAME \\\n",
    "  --job-dir gs://${BUCKET_PATH}/jobdir \\\n",
    "  --package-path $TRAINER_PACKAGE_PATH \\\n",
    "  --module-name $MAIN_TRAINER_MODULE \\\n",
    "  --region $REGION \\\n",
    "  --runtime-version $RUNTIME_VERSION \\\n",
    "  --python-version $PYTHON_VERSION \\\n",
    "  --scale-tier basic \\\n",
    "  --config $HPTUNING_CONFIG \\\n",
    "  -- \\\n",
    "  --metric val_auc \\\n",
    "  --epochs 1 \\\n",
    "  --run_type 'cloud'"
   ]
  },
  {
   "cell_type": "code",
   "execution_count": 36,
   "metadata": {},
   "outputs": [
    {
     "name": "stdout",
     "output_type": "stream",
     "text": [
      "Waiting for AI-Platform job to complete ...\n",
      "Finished.\n"
     ]
    }
   ],
   "source": [
    "print('Waiting for AI-Platform job to complete ...')\n",
    "job_outpt = !gcloud ai-platform jobs describe --format json $JOB_NAME\n",
    "outpt_dict = json.loads(job_outpt.get_spstr())\n",
    "while outpt_dict['state'] not in ['SUCCEEDED', 'FAILED', 'CANCELLED', 'CANCELLING']:\n",
    "    time.sleep(30)\n",
    "    job_outpt = !gcloud ai-platform jobs describe --format json $JOB_NAME\n",
    "    outpt_dict = json.loads(job_outpt.get_spstr())\n",
    "if outpt_dict['state'] != 'SUCCEEDED':\n",
    "    !gcloud ai-platform jobs describe $JOB_NAME\n",
    "    raise(Exception('There was an issue with the AI-Platform Job. Please see the logs for information.'))\n",
    "print('Finished.')"
   ]
  },
  {
   "cell_type": "code",
   "execution_count": 37,
   "metadata": {},
   "outputs": [
    {
     "data": {
      "text/html": [
       "<div>\n",
       "<style scoped>\n",
       "    .dataframe tbody tr th:only-of-type {\n",
       "        vertical-align: middle;\n",
       "    }\n",
       "\n",
       "    .dataframe tbody tr th {\n",
       "        vertical-align: top;\n",
       "    }\n",
       "\n",
       "    .dataframe thead th {\n",
       "        text-align: right;\n",
       "    }\n",
       "</style>\n",
       "<table border=\"1\" class=\"dataframe\">\n",
       "  <thead>\n",
       "    <tr style=\"text-align: right;\">\n",
       "      <th>Trial_ID</th>\n",
       "      <th>1</th>\n",
       "      <th>2</th>\n",
       "    </tr>\n",
       "  </thead>\n",
       "  <tbody>\n",
       "    <tr>\n",
       "      <th>ROC_AUC</th>\n",
       "      <td>0.9096</td>\n",
       "      <td>0.9052</td>\n",
       "    </tr>\n",
       "    <tr>\n",
       "      <th>batch_size</th>\n",
       "      <td>64</td>\n",
       "      <td>32</td>\n",
       "    </tr>\n",
       "    <tr>\n",
       "      <th>class_weight_ratio</th>\n",
       "      <td>2.5000</td>\n",
       "      <td>2.0950</td>\n",
       "    </tr>\n",
       "    <tr>\n",
       "      <th>hidden_activation</th>\n",
       "      <td>selu</td>\n",
       "      <td>elu</td>\n",
       "    </tr>\n",
       "    <tr>\n",
       "      <th>hidden_depth</th>\n",
       "      <td>2</td>\n",
       "      <td>1</td>\n",
       "    </tr>\n",
       "    <tr>\n",
       "      <th>hidden_nodes</th>\n",
       "      <td>32</td>\n",
       "      <td>16</td>\n",
       "    </tr>\n",
       "    <tr>\n",
       "      <th>initial_lr</th>\n",
       "      <td>0.0051</td>\n",
       "      <td>0.0031</td>\n",
       "    </tr>\n",
       "    <tr>\n",
       "      <th>lr_decay_param</th>\n",
       "      <td>55</td>\n",
       "      <td>66</td>\n",
       "    </tr>\n",
       "    <tr>\n",
       "      <th>optimizer</th>\n",
       "      <td>RMSprop</td>\n",
       "      <td>Adam</td>\n",
       "    </tr>\n",
       "  </tbody>\n",
       "</table>\n",
       "</div>"
      ],
      "text/plain": [
       "Trial_ID                  1      2\n",
       "ROC_AUC              0.9096 0.9052\n",
       "batch_size               64     32\n",
       "class_weight_ratio   2.5000 2.0950\n",
       "hidden_activation      selu    elu\n",
       "hidden_depth              2      1\n",
       "hidden_nodes             32     16\n",
       "initial_lr           0.0051 0.0031\n",
       "lr_decay_param           55     66\n",
       "optimizer           RMSprop   Adam"
      ]
     },
     "execution_count": 37,
     "metadata": {},
     "output_type": "execute_result"
    }
   ],
   "source": [
    "trials = outpt_dict['trainingOutput']['trials']\n",
    "scores = [float(t['finalMetric']['objectiveValue']) for t in trials]\n",
    "trial_ids = [t['trialId'] for t in trials]\n",
    "hypers = pd.DataFrame([t['hyperparameters'] for t in trials], dtype=np.float64)\n",
    "max_idx = np.argmax(scores)\n",
    "job_df = pd.DataFrame({'Trial_ID': trial_ids, 'ROC_AUC': scores})\n",
    "job_df = job_df.merge(hypers, left_index=True, right_index=True).set_index('Trial_ID')\n",
    "pd.options.display.float_format = '{:,.4f}'.format\n",
    "for col in job_df.columns:\n",
    "    if col in ['batch_size', 'hidden_depth', 'hidden_nodes', 'lr_decay_param']:\n",
    "        job_df[col] = job_df[col].astype('int')\n",
    "    job_df[col] = job_df[col].astype('object')  # force correct display of ints and floats after transpose\n",
    "job_df.head(5).T"
   ]
  },
  {
   "cell_type": "code",
   "execution_count": null,
   "metadata": {},
   "outputs": [],
   "source": []
  }
 ],
 "metadata": {
  "environment": {
   "name": "tf-gpu.1-15.m55",
   "type": "gcloud",
   "uri": "gcr.io/deeplearning-platform-release/tf-gpu.1-15:m55"
  },
  "kernelspec": {
   "display_name": "Python 3",
   "language": "python",
   "name": "python3"
  },
  "language_info": {
   "codemirror_mode": {
    "name": "ipython",
    "version": 3
   },
   "file_extension": ".py",
   "mimetype": "text/x-python",
   "name": "python",
   "nbconvert_exporter": "python",
   "pygments_lexer": "ipython3",
   "version": "3.7.8"
  }
 },
 "nbformat": 4,
 "nbformat_minor": 4
}
